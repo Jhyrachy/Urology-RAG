{
 "cells": [
  {
   "cell_type": "markdown",
   "metadata": {},
   "source": [
    "RAPTOR RAG\n",
    "https://arxiv.org/html/2401.18059v1\n",
    "https://github.com/parthsarthi03/raptor\n",
    "\n",
    "RAPTOR introduces a novel approach to retrieval-augmented language models by constructing a recursive tree structure from documents. This allows for more efficient and context-aware information retrieval across large texts, addressing common limitations in traditional language models.\n",
    "\n",
    "The main advantage of this tecnique is that allow summarization with a bigger but slower model preemptively, allowing the use of slower (and maybe cheaper) service like OpenAI batched inference and of smaller and faster models at runtime"
   ]
  }
 ],
 "metadata": {
  "language_info": {
   "name": "python"
  }
 },
 "nbformat": 4,
 "nbformat_minor": 2
}
